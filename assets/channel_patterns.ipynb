{
 "cells": [
  {
   "cell_type": "markdown",
   "metadata": {},
   "source": [
    "# Useful nextflow channel patterns\n",
    "\n",
    "## Pre-requisites\n",
    "\n",
    "### 1. Install the required conda packages\n",
    "\n",
    "Before starting let's install `nextflow` and the `awscli` and the `bash_kernel` that will allow us to execute bash code within Jupyter notebook cells.\n",
    "\n",
    "```\n",
    "conda create -n jupyflow -c bioconda nextflow=20.01.0 bash_kernel awscli -y\n",
    "```\n",
    "\n",
    "\n",
    "### 2. Choose the new Jupyter kernel for the current notebook\n",
    "\n",
    "To use the dependencies installed above in an interactive session, select the kernel from the top right corner of your Notebook. We named our conda environment `jupyflow`, go ahead and select this one before starting to execute the following cells.\n",
    "\n",
    "The following gif shows you where to find the new Jupyter kernel, `jupyflow` option, and select it:\n",
    "\n",
    "![](http://g.recordit.co/LLDwDx6YtS.gif)"
   ]
  },
  {
   "cell_type": "code",
   "execution_count": 1,
   "metadata": {},
   "outputs": [],
   "source": [
    "# prevents from warning messages related to the undefined TERM variable\n",
    "export TERM=xterm"
   ]
  },
  {
   "cell_type": "markdown",
   "metadata": {},
   "source": [
    "## Pattern Examples\n",
    "\n",
    "### 1. Example Input: A csv file with a genotypic data set of 2 files (main file & its index)\n",
    "\n",
    "Example file: `s3://lifebit-featured-datasets/projects/gel/gel-gwas/testdata/vcfs.csv`\n",
    "\n",
    "We can inspect the contents of the folder using `awscli`"
   ]
  },
  {
   "cell_type": "code",
   "execution_count": 2,
   "metadata": {},
   "outputs": [
    {
     "name": "stdout",
     "output_type": "stream",
     "text": [
      "download: s3://lifebit-featured-datasets/projects/gel/gel-gwas/testdata/vcfs.csv to ./vcfs.csv\n",
      "chr,vcf,index\n",
      "1,s3://lifebit-featured-datasets/projects/gel/gwas/testdata/vcfs/sampleA_chr1.vcf.gz,s3://lifebit-featured-datasets/projects/gel/gwas/testdata/vcfs/sampleA_chr1.vcf.gz.csi\n",
      "10,s3://lifebit-featured-datasets/projects/gel/gwas/testdata/vcfs/sampleA_chr10.vcf.gz,s3://lifebit-featured-datasets/projects/gel/gwas/testdata/vcfs/sampleA_chr10.vcf.gz.csi\n",
      "11,s3://lifebit-featured-datasets/projects/gel/gwas/testdata/vcfs/sampleA_chr11.vcf.gz,s3://lifebit-featured-datasets/projects/gel/gwas/testdata/vcfs/sampleA_chr11.vcf.gz.csi\n"
     ]
    }
   ],
   "source": [
    "aws s3 cp s3://lifebit-featured-datasets/projects/gel/gel-gwas/testdata/vcfs.csv . --no-sign-request\n",
    "\n",
    "head -4 vcfs.csv "
   ]
  },
  {
   "cell_type": "markdown",
   "metadata": {},
   "source": [
    "#### What we would like to create:\n",
    "\n",
    "```\n",
    "[sampleA_chr1, 1, sampleA_chr1.vcf.gz, sampleA_chr1.vcf.gz.csi]\n",
    "[sampleA_chr2, 2, sampleA_chr2.vcf.gz, sampleA_chr2.vcf.gz.csi]\n",
    "```\n",
    "\n",
    "#### How to create it:\n"
   ]
  },
  {
   "cell_type": "code",
   "execution_count": 3,
   "metadata": {},
   "outputs": [
    {
     "name": "stdout",
     "output_type": "stream",
     "text": [
      "N E X T F L O W  ~  version 20.01.0\n",
      "Launching `pattern_1.nf` [elated_northcutt] - revision: efb9b93a3c\n",
      "[sampleA_chr1, 1, /lifebit-featured-datasets/projects/gel/gwas/testdata/vcfs/sampleA_chr1.vcf.gz, /lifebit-featured-datasets/projects/gel/gwas/testdata/vcfs/sampleA_chr1.vcf.gz.csi]\n",
      "[sampleA_chr10, 10, /lifebit-featured-datasets/projects/gel/gwas/testdata/vcfs/sampleA_chr10.vcf.gz, /lifebit-featured-datasets/projects/gel/gwas/testdata/vcfs/sampleA_chr10.vcf.gz.csi]\n"
     ]
    }
   ],
   "source": [
    "cat << 'EOF' > pattern_1.nf\n",
    "#!/usr/bin/env nextflow\n",
    "\n",
    "\n",
    "params.number_of_files_to_process = 2\n",
    "params.genotype_files_list = \"s3://lifebit-featured-datasets/projects/gel/gel-gwas/testdata/vcfs.csv\"\n",
    "\n",
    "  Channel\n",
    "    .fromPath(params.genotype_files_list)\n",
    "    .ifEmpty { exit 1, \"Cannot find CSV VCFs file : ${params.genotype_files_list}\" }\n",
    "    .splitCsv(skip:1)\n",
    "    .map { chr, vcf, index -> [file(vcf).simpleName, chr, file(vcf), file(index)] }\n",
    "    .take( params.number_of_files_to_process )\n",
    "    .set { ch_user_input_vcf }\n",
    "\n",
    "    ch_user_input_vcf.view()\n",
    "    \n",
    "    \n",
    "EOF\n",
    "nextflow run pattern_1.nf"
   ]
  },
  {
   "cell_type": "markdown",
   "metadata": {},
   "source": [
    "### 2. Example Input: A folder with a genotypic data set of 3 files (plink set)\n",
    "\n",
    "Example file: `s3://omics-example-datasets/pipelines/gwas/tools/king/ancestry-reference-files/`\n",
    "\n",
    "We can inspect the contents of the folder using `awscli`"
   ]
  },
  {
   "cell_type": "code",
   "execution_count": 4,
   "metadata": {},
   "outputs": [
    {
     "name": "stdout",
     "output_type": "stream",
     "text": [
      "2022-02-20 20:44:07  488917156 KGref.bed.xz\n",
      "2022-02-20 20:57:40   36528948 KGref.bim.xz\n",
      "2022-02-20 21:42:39       3272 KGref.fam.xz\n"
     ]
    }
   ],
   "source": [
    "aws s3 ls s3://omics-example-datasets/pipelines/gwas/tools/king/ancestry-reference-files/ --no-sign-request"
   ]
  },
  {
   "cell_type": "markdown",
   "metadata": {},
   "source": [
    "#### What we would like to create:\n",
    "\n",
    "```\n",
    "[KGref,KGref.bed.xz, KGref.bim.xz, KGref.fam.xz]\n",
    "```\n",
    "\n",
    "#### How to create it:\n"
   ]
  },
  {
   "cell_type": "code",
   "execution_count": 5,
   "metadata": {},
   "outputs": [
    {
     "name": "stdout",
     "output_type": "stream",
     "text": [
      "N E X T F L O W  ~  version 20.01.0\n",
      "Launching `pattern_2.nf` [high_raman] - revision: 5ab8293681\n",
      "[KGref, /omics-example-datasets/pipelines/gwas/tools/king/ancestry-reference-files/KGref.bed.xz, /omics-example-datasets/pipelines/gwas/tools/king/ancestry-reference-files/KGref.bim.xz, /omics-example-datasets/pipelines/gwas/tools/king/ancestry-reference-files/KGref.fam.xz]\n"
     ]
    }
   ],
   "source": [
    "cat << 'EOF' > pattern_2.nf\n",
    "#!/usr/bin/env nextflow\n",
    "\n",
    "\n",
    "params.king_reference_data = \"s3://omics-example-datasets/pipelines/gwas/tools/king/ancestry-reference-files/KGref.{bed,bim,fam}.xz\"\n",
    "\n",
    "Channel\n",
    "  .fromFilePairs(\"${params.king_reference_data}\",size:3, flat : true)\n",
    "  .ifEmpty { exit 1, \"KING reference data PLINK files not found: ${params.king_reference_data}.\\nPlease specify a valid --king_reference_data value. e.g. refdata/king_ref*.{bed,bim,fam}\" }\n",
    "  .set{ ch_king_reference_data }\n",
    "\n",
    "  ch_king_reference_data.view()\n",
    "  \n",
    "EOF\n",
    "nextflow run pattern_2.nf"
   ]
  },
  {
   "cell_type": "markdown",
   "metadata": {},
   "source": [
    "### 3. Example Input: A folder with a genotypic data pair\n",
    "\n",
    "Example file: `s3://lifebit-featured-datasets/projects/gel/gel-gwas/testdata/vcfs/`\n",
    "\n",
    "We can inspect the contents of the folder using `awscli`"
   ]
  },
  {
   "cell_type": "code",
   "execution_count": 6,
   "metadata": {},
   "outputs": [
    {
     "name": "stdout",
     "output_type": "stream",
     "text": [
      "2021-09-02 20:38:30       1887 sampleA_chr7.vcf.gz.csi\n",
      "2021-09-02 20:38:30     121759 sampleA_chr8.vcf.gz\n",
      "2021-09-02 20:38:30       2002 sampleA_chr8.vcf.gz.csi\n",
      "2021-09-02 20:38:30     110844 sampleA_chr9.vcf.gz\n",
      "2021-09-02 20:38:30       1829 sampleA_chr9.vcf.gz.csi\n"
     ]
    }
   ],
   "source": [
    "aws s3 ls s3://lifebit-featured-datasets/projects/gel/gel-gwas/testdata/vcfs/  --no-sign-request | tail -5"
   ]
  },
  {
   "cell_type": "markdown",
   "metadata": {},
   "source": [
    "#### What we would like to create:\n",
    "\n",
    "```\n",
    "[sampleA_chr1, 1, sampleA_chr1.vcf.gz, sampleA_chr1.vcf.gz.csi]\n",
    "```\n",
    "\n",
    "#### How to create it:"
   ]
  },
  {
   "cell_type": "code",
   "execution_count": 7,
   "metadata": {},
   "outputs": [
    {
     "name": "stdout",
     "output_type": "stream",
     "text": [
      "N E X T F L O W  ~  version 20.01.0\n",
      "Launching `pattern_3.nf` [focused_knuth] - revision: e5c967cdda\n",
      "[sampleA_chr1, 1, /lifebit-featured-datasets/projects/gel/gel-gwas/testdata/vcfs/sampleA_chr1.vcf.gz, /lifebit-featured-datasets/projects/gel/gel-gwas/testdata/vcfs/sampleA_chr1.vcf.gz.csi]\n",
      "[sampleA_chr10, 10, /lifebit-featured-datasets/projects/gel/gel-gwas/testdata/vcfs/sampleA_chr10.vcf.gz, /lifebit-featured-datasets/projects/gel/gel-gwas/testdata/vcfs/sampleA_chr10.vcf.gz.csi]\n",
      "[sampleA_chr11, 11, /lifebit-featured-datasets/projects/gel/gel-gwas/testdata/vcfs/sampleA_chr11.vcf.gz, /lifebit-featured-datasets/projects/gel/gel-gwas/testdata/vcfs/sampleA_chr11.vcf.gz.csi]\n"
     ]
    }
   ],
   "source": [
    "cat << 'EOF' > pattern_3.nf\n",
    "#!/usr/bin/env nextflow\n",
    "\n",
    "def get_chromosome( file ) {\n",
    "    // using RegEx to extract chromosome number from file name\n",
    "    regexpPE = /(?:chr)[a-zA-Z0-9]+/\n",
    "    (file =~ regexpPE)[0].replaceAll('chr','')\n",
    "}\n",
    "params.number_of_files_to_process = 3\n",
    "params.input_folder_location = \"s3://lifebit-featured-datasets/projects/gel/gel-gwas/testdata/vcfs/\"\n",
    "params.file_pattern = \"sampleA\"\n",
    "params.file_suffix = \"vcf.gz\"\n",
    "params.index_suffix = \"vcf.gz.csi\"\n",
    "\n",
    "/*--------------------------------------------------\n",
    "  Channel setup\n",
    "---------------------------------------------------*/\n",
    "if (params.input_folder_location) {\n",
    "  Channel.fromPath(\"${params.input_folder_location}/**${params.file_pattern}*.{${params.file_suffix},${params.index_suffix}}\")\n",
    "       .map { it -> [ get_chromosome(file(it).simpleName.minus(\".${params.index_suffix}\").minus(\".${params.file_suffix}\")), \"s3:/\"+it] }\n",
    "       .groupTuple(by:0)\n",
    "       .map { chr, files_pair -> [ chr, files_pair[0], files_pair[1] ] }\n",
    "       .map { chr, vcf, index -> [ file(vcf).simpleName, chr, file(vcf), file(index) ] }\n",
    "       .take( params.number_of_files_to_process )\n",
    "       .set { ch_user_input_vcf }\n",
    "       \n",
    "       ch_user_input_vcf.view()\n",
    "}\n",
    "\n",
    "EOF\n",
    "nextflow run pattern_3.nf"
   ]
  }
 ],
 "metadata": {
  "jupytext": {
   "cell_metadata_filter": "-all",
   "main_language": "bash",
   "notebook_metadata_filter": "-all"
  },
  "kernelspec": {
   "display_name": "jupyflow",
   "language": "bash",
   "name": "conda-env-jupyflow-bash"
  },
  "language_info": {
   "codemirror_mode": "shell",
   "file_extension": ".sh",
   "mimetype": "text/x-sh",
   "name": "bash"
  }
 },
 "nbformat": 4,
 "nbformat_minor": 5
}
